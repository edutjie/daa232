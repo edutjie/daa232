{
 "cells": [
  {
   "cell_type": "markdown",
   "metadata": {},
   "source": [
    "# Tugas Eksplorasi DAA 1\n",
    "Author: Eduardus Tjitrahardja 2106653602"
   ]
  },
  {
   "cell_type": "markdown",
   "metadata": {},
   "source": [
    "## Helper"
   ]
  },
  {
   "cell_type": "code",
   "execution_count": 15,
   "metadata": {},
   "outputs": [
    {
     "name": "stdout",
     "output_type": "stream",
     "text": [
      "Collecting memory-profiler\n",
      "  Downloading memory_profiler-0.61.0-py3-none-any.whl (31 kB)\n",
      "Requirement already satisfied: psutil in d:\\miniconda3\\envs\\tf\\lib\\site-packages (from memory-profiler) (5.9.0)\n",
      "Installing collected packages: memory-profiler\n",
      "Successfully installed memory-profiler-0.61.0\n"
     ]
    },
    {
     "name": "stderr",
     "output_type": "stream",
     "text": [
      "WARNING: Ignoring invalid distribution -pencv-python-headless (c:\\users\\edutj\\appdata\\roaming\\python\\python39\\site-packages)\n",
      "WARNING: Ignoring invalid distribution -pencv-python-headless (c:\\users\\edutj\\appdata\\roaming\\python\\python39\\site-packages)\n",
      "WARNING: Ignoring invalid distribution -pencv-python-headless (c:\\users\\edutj\\appdata\\roaming\\python\\python39\\site-packages)\n",
      "WARNING: Ignoring invalid distribution -pencv-python-headless (c:\\users\\edutj\\appdata\\roaming\\python\\python39\\site-packages)\n",
      "WARNING: Ignoring invalid distribution -pencv-python-headless (c:\\users\\edutj\\appdata\\roaming\\python\\python39\\site-packages)\n",
      "WARNING: Ignoring invalid distribution -pencv-python-headless (c:\\users\\edutj\\appdata\\roaming\\python\\python39\\site-packages)\n"
     ]
    }
   ],
   "source": [
    "%pip install memory-profiler"
   ]
  },
  {
   "cell_type": "code",
   "execution_count": 9,
   "metadata": {},
   "outputs": [],
   "source": [
    "import time\n",
    "from memory_profiler import memory_usage\n",
    "\n",
    "# Function to perform a sorting operation and measure time\n",
    "def sort_and_measure(sort_instance, arr: list[int]) -> tuple[float, list[int]]:\n",
    "    start_time = time.time()\n",
    "    # Replace this line with your sorting algorithm of choice\n",
    "    sort_instance.sort(arr)\n",
    "    end_time = time.time()\n",
    "    execution_time = end_time - start_time\n",
    "    # convert to millisecondsq\n",
    "    execution_time *= 1000\n",
    "    return execution_time\n",
    "\n",
    "def evaluate(sort_class, arr: list[int]) -> None:\n",
    "    start_mem = memory_usage()[0]\n",
    "    execution_time = sort_and_measure(sort_class, arr)\n",
    "    end_mem = memory_usage()[0]\n",
    "    mem_usage = end_mem - start_mem\n",
    "    print(f\"Execution time: {execution_time:.6f} ms; Memory usage: {mem_usage} MiB\")\n",
    "\n",
    "def generate_power_of_2_list(exponent: int) -> list[int]:\n",
    "    if exponent < 0:\n",
    "        raise ValueError(\"Exponent must be non-negative\")\n",
    "\n",
    "    max_value = 2 ** exponent\n",
    "    return list(range(1, max_value + 1))\n",
    "\n",
    "def save_dataset_to_txt(arr: list[int], path: str) -> None:\n",
    "    with open(path, \"w\") as f:\n",
    "        for num in arr:\n",
    "            f.write(f\"{num}\\n\")\n",
    "\n",
    "def load_dataset_from_txt(path: str) -> list[int]:\n",
    "    with open(path, \"r\") as f:\n",
    "        return [int(line) for line in f.readlines()]"
   ]
  },
  {
   "cell_type": "markdown",
   "metadata": {},
   "source": [
    "## Randomized Shell Sort Class"
   ]
  },
  {
   "cell_type": "code",
   "execution_count": 33,
   "metadata": {},
   "outputs": [],
   "source": [
    "import random\n",
    "\n",
    "class RandomizedShellSort:\n",
    "    # referensi:  Michael T Goodrich. Randomized Shellsort: A Simple Data-Oblivious Sorting Algorithm. Journal of the ACM (JACM), 58(6):1–26, 2011\n",
    "    C = 4\n",
    "    def __init__(self, C=4):\n",
    "        RandomizedShellSort.C = C\n",
    "\n",
    "    @staticmethod\n",
    "    def exchange(a:list[int], i:int, j:int) -> None:\n",
    "        a[i], a[j] = a[j], a[i]\n",
    "\n",
    "    @staticmethod\n",
    "    def compare_exchange(a:list[int], i:int, j:int) -> None:\n",
    "        if ((i < j) and (a[i] > a[j])) or ((i > j) and (a[i] < a[j])):\n",
    "            RandomizedShellSort.exchange(a, i, j)\n",
    "        #     print(f\"Compare-exchange {i} and {j}:\", \"Exchanged\", a)\n",
    "        # else:\n",
    "        #     print(f\"Compare-exchange {i} and {j}:\", \"No exchange\")\n",
    "\n",
    "    @staticmethod\n",
    "    def permute_random(a: list[int]) -> None:\n",
    "        for i in range(len(a)):\n",
    "            j = random.randint(i, len(a) - 1)\n",
    "            RandomizedShellSort.exchange(a, i, j)\n",
    "\n",
    "    @staticmethod\n",
    "    def compare_regions(a, s, t, offset):\n",
    "        for _ in range(RandomizedShellSort.C):\n",
    "            mate = list(range(offset))\n",
    "            RandomizedShellSort.permute_random(mate)\n",
    "            for i in range(offset):\n",
    "                RandomizedShellSort.compare_exchange(a, s + i, t + mate[i])\n",
    "\n",
    "\n",
    "\n",
    "    @staticmethod\n",
    "    def sort(a:list[int]) -> None:\n",
    "        n = len(a) #  we assume that n is a power of 2\n",
    "        offset = n // 2\n",
    "        while offset > 0:\n",
    "            # print(\"Offset:\", offset)\n",
    "            # print(\"Compare-exchange up\")\n",
    "            for i in range(0, n - offset, offset): # compare-exchange up\n",
    "                RandomizedShellSort.compare_regions(a, i, i + offset, offset)\n",
    "            # print(\"Compare-exchange down\")\n",
    "            for i in range(n - offset, offset - 1, -offset): # compare-exchange down\n",
    "                RandomizedShellSort.compare_regions(a, i - offset, i, offset)\n",
    "            # print(\"Compare-exchange 3 hops up\")\n",
    "            for i in range(0, n - 3 * offset, offset): # compare 3 hops up\n",
    "                RandomizedShellSort.compare_regions(a, i, i + 3 * offset, offset)\n",
    "            # print(\"Compare-exchange 2 hops up\")\n",
    "            for i in range(0, n - 2 * offset, offset): # compare 2 hops up\n",
    "                RandomizedShellSort.compare_regions(a, i, i + 2 * offset, offset)\n",
    "            # print(\"Compare-exchange odd-even regions\")\n",
    "            for i in range(0, n, 2 * offset): # compare odd-even regions\n",
    "                RandomizedShellSort.compare_regions(a, i, i + offset, offset)\n",
    "            # print(\"Compare-exchange even-odd regions\")\n",
    "            for i in range(offset, n - offset, 2 * offset): # compare even-odd regions\n",
    "                RandomizedShellSort.compare_regions(a, i, i + offset, offset)\n",
    "            offset //= 2  # Halve the offset in each iteration"
   ]
  },
  {
   "cell_type": "code",
   "execution_count": 6,
   "metadata": {},
   "outputs": [
    {
     "name": "stdout",
     "output_type": "stream",
     "text": [
      "Execution time: 0.000000 ms; Memory usage: 0.0 MiB\n"
     ]
    }
   ],
   "source": [
    "a = [2, 1, 3, 5, 4, 8, 6, 9]\n",
    "evaluate(RandomizedShellSort, a)"
   ]
  },
  {
   "cell_type": "code",
   "execution_count": 32,
   "metadata": {},
   "outputs": [
    {
     "name": "stdout",
     "output_type": "stream",
     "text": [
      "Offset: 4\n",
      "Compare-exchange up\n",
      "Compare-exchange 0 and 4: Exchanged [3, 4, 2, 1, 5, 7, 8, 6]\n",
      "Compare-exchange 1 and 6: No exchange\n",
      "Compare-exchange 2 and 7: No exchange\n",
      "Compare-exchange 3 and 5: No exchange\n",
      "Compare-exchange 0 and 6: No exchange\n",
      "Compare-exchange 1 and 5: No exchange\n",
      "Compare-exchange 2 and 4: No exchange\n",
      "Compare-exchange 3 and 7: No exchange\n",
      "Compare-exchange 0 and 5: No exchange\n",
      "Compare-exchange 1 and 7: No exchange\n",
      "Compare-exchange 2 and 6: No exchange\n",
      "Compare-exchange 3 and 4: No exchange\n",
      "Compare-exchange 0 and 6: No exchange\n",
      "Compare-exchange 1 and 5: No exchange\n",
      "Compare-exchange 2 and 4: No exchange\n",
      "Compare-exchange 3 and 7: No exchange\n",
      "Compare-exchange down\n",
      "Compare-exchange 0 and 7: No exchange\n",
      "Compare-exchange 1 and 5: No exchange\n",
      "Compare-exchange 2 and 6: No exchange\n",
      "Compare-exchange 3 and 4: No exchange\n",
      "Compare-exchange 0 and 5: No exchange\n",
      "Compare-exchange 1 and 6: No exchange\n",
      "Compare-exchange 2 and 4: No exchange\n",
      "Compare-exchange 3 and 7: No exchange\n",
      "Compare-exchange 0 and 6: No exchange\n",
      "Compare-exchange 1 and 5: No exchange\n",
      "Compare-exchange 2 and 7: No exchange\n",
      "Compare-exchange 3 and 4: No exchange\n",
      "Compare-exchange 0 and 4: No exchange\n",
      "Compare-exchange 1 and 6: No exchange\n",
      "Compare-exchange 2 and 5: No exchange\n",
      "Compare-exchange 3 and 7: No exchange\n",
      "Compare-exchange 3 hops up\n",
      "Compare-exchange 2 hops up\n",
      "Compare-exchange odd-even regions\n",
      "Compare-exchange 0 and 5: No exchange\n",
      "Compare-exchange 1 and 7: No exchange\n",
      "Compare-exchange 2 and 6: No exchange\n",
      "Compare-exchange 3 and 4: No exchange\n",
      "Compare-exchange 0 and 5: No exchange\n",
      "Compare-exchange 1 and 6: No exchange\n",
      "Compare-exchange 2 and 7: No exchange\n",
      "Compare-exchange 3 and 4: No exchange\n",
      "Compare-exchange 0 and 6: No exchange\n",
      "Compare-exchange 1 and 4: No exchange\n",
      "Compare-exchange 2 and 7: No exchange\n",
      "Compare-exchange 3 and 5: No exchange\n",
      "Compare-exchange 0 and 6: No exchange\n",
      "Compare-exchange 1 and 7: No exchange\n",
      "Compare-exchange 2 and 5: No exchange\n",
      "Compare-exchange 3 and 4: No exchange\n",
      "Compare-exchange even-odd regions\n",
      "Offset: 2\n",
      "Compare-exchange up\n",
      "Compare-exchange 0 and 3: Exchanged [1, 4, 2, 3, 5, 7, 8, 6]\n",
      "Compare-exchange 1 and 2: Exchanged [1, 2, 4, 3, 5, 7, 8, 6]\n",
      "Compare-exchange 0 and 3: No exchange\n",
      "Compare-exchange 1 and 2: No exchange\n",
      "Compare-exchange 0 and 2: No exchange\n",
      "Compare-exchange 1 and 3: No exchange\n",
      "Compare-exchange 0 and 3: No exchange\n",
      "Compare-exchange 1 and 2: No exchange\n",
      "Compare-exchange 2 and 4: No exchange\n",
      "Compare-exchange 3 and 5: No exchange\n",
      "Compare-exchange 2 and 4: No exchange\n",
      "Compare-exchange 3 and 5: No exchange\n",
      "Compare-exchange 2 and 4: No exchange\n",
      "Compare-exchange 3 and 5: No exchange\n",
      "Compare-exchange 2 and 5: No exchange\n",
      "Compare-exchange 3 and 4: No exchange\n",
      "Compare-exchange 4 and 7: No exchange\n",
      "Compare-exchange 5 and 6: No exchange\n",
      "Compare-exchange 4 and 7: No exchange\n",
      "Compare-exchange 5 and 6: No exchange\n",
      "Compare-exchange 4 and 7: No exchange\n",
      "Compare-exchange 5 and 6: No exchange\n",
      "Compare-exchange 4 and 6: No exchange\n",
      "Compare-exchange 5 and 7: Exchanged [1, 2, 4, 3, 5, 6, 8, 7]\n",
      "Compare-exchange down\n",
      "Compare-exchange 4 and 7: No exchange\n",
      "Compare-exchange 5 and 6: No exchange\n",
      "Compare-exchange 4 and 7: No exchange\n",
      "Compare-exchange 5 and 6: No exchange\n",
      "Compare-exchange 4 and 7: No exchange\n",
      "Compare-exchange 5 and 6: No exchange\n",
      "Compare-exchange 4 and 6: No exchange\n",
      "Compare-exchange 5 and 7: No exchange\n",
      "Compare-exchange 2 and 4: No exchange\n",
      "Compare-exchange 3 and 5: No exchange\n",
      "Compare-exchange 2 and 5: No exchange\n",
      "Compare-exchange 3 and 4: No exchange\n",
      "Compare-exchange 2 and 5: No exchange\n",
      "Compare-exchange 3 and 4: No exchange\n",
      "Compare-exchange 2 and 4: No exchange\n",
      "Compare-exchange 3 and 5: No exchange\n",
      "Compare-exchange 0 and 3: No exchange\n",
      "Compare-exchange 1 and 2: No exchange\n",
      "Compare-exchange 0 and 3: No exchange\n",
      "Compare-exchange 1 and 2: No exchange\n",
      "Compare-exchange 0 and 2: No exchange\n",
      "Compare-exchange 1 and 3: No exchange\n",
      "Compare-exchange 0 and 2: No exchange\n",
      "Compare-exchange 1 and 3: No exchange\n",
      "Compare-exchange 3 hops up\n",
      "Compare-exchange 0 and 6: No exchange\n",
      "Compare-exchange 1 and 7: No exchange\n",
      "Compare-exchange 0 and 6: No exchange\n",
      "Compare-exchange 1 and 7: No exchange\n",
      "Compare-exchange 0 and 6: No exchange\n",
      "Compare-exchange 1 and 7: No exchange\n",
      "Compare-exchange 0 and 6: No exchange\n",
      "Compare-exchange 1 and 7: No exchange\n",
      "Compare-exchange 2 hops up\n",
      "Compare-exchange 0 and 5: No exchange\n",
      "Compare-exchange 1 and 4: No exchange\n",
      "Compare-exchange 0 and 4: No exchange\n",
      "Compare-exchange 1 and 5: No exchange\n",
      "Compare-exchange 0 and 4: No exchange\n",
      "Compare-exchange 1 and 5: No exchange\n",
      "Compare-exchange 0 and 5: No exchange\n",
      "Compare-exchange 1 and 4: No exchange\n",
      "Compare-exchange 2 and 7: No exchange\n",
      "Compare-exchange 3 and 6: No exchange\n",
      "Compare-exchange 2 and 7: No exchange\n",
      "Compare-exchange 3 and 6: No exchange\n",
      "Compare-exchange 2 and 7: No exchange\n",
      "Compare-exchange 3 and 6: No exchange\n",
      "Compare-exchange 2 and 7: No exchange\n",
      "Compare-exchange 3 and 6: No exchange\n",
      "Compare-exchange odd-even regions\n",
      "Compare-exchange 0 and 2: No exchange\n",
      "Compare-exchange 1 and 3: No exchange\n",
      "Compare-exchange 0 and 2: No exchange\n",
      "Compare-exchange 1 and 3: No exchange\n",
      "Compare-exchange 0 and 3: No exchange\n",
      "Compare-exchange 1 and 2: No exchange\n",
      "Compare-exchange 0 and 2: No exchange\n",
      "Compare-exchange 1 and 3: No exchange\n",
      "Compare-exchange 4 and 7: No exchange\n",
      "Compare-exchange 5 and 6: No exchange\n",
      "Compare-exchange 4 and 7: No exchange\n",
      "Compare-exchange 5 and 6: No exchange\n",
      "Compare-exchange 4 and 6: No exchange\n",
      "Compare-exchange 5 and 7: No exchange\n",
      "Compare-exchange 4 and 7: No exchange\n",
      "Compare-exchange 5 and 6: No exchange\n",
      "Compare-exchange even-odd regions\n",
      "Compare-exchange 2 and 4: No exchange\n",
      "Compare-exchange 3 and 5: No exchange\n",
      "Compare-exchange 2 and 4: No exchange\n",
      "Compare-exchange 3 and 5: No exchange\n",
      "Compare-exchange 2 and 4: No exchange\n",
      "Compare-exchange 3 and 5: No exchange\n",
      "Compare-exchange 2 and 5: No exchange\n",
      "Compare-exchange 3 and 4: No exchange\n",
      "Offset: 1\n",
      "Compare-exchange up\n",
      "Compare-exchange 0 and 1: No exchange\n",
      "Compare-exchange 0 and 1: No exchange\n",
      "Compare-exchange 0 and 1: No exchange\n",
      "Compare-exchange 0 and 1: No exchange\n",
      "Compare-exchange 1 and 2: No exchange\n",
      "Compare-exchange 1 and 2: No exchange\n",
      "Compare-exchange 1 and 2: No exchange\n",
      "Compare-exchange 1 and 2: No exchange\n",
      "Compare-exchange 2 and 3: Exchanged [1, 2, 3, 4, 5, 6, 8, 7]\n",
      "Compare-exchange 2 and 3: No exchange\n",
      "Compare-exchange 2 and 3: No exchange\n",
      "Compare-exchange 2 and 3: No exchange\n",
      "Compare-exchange 3 and 4: No exchange\n",
      "Compare-exchange 3 and 4: No exchange\n",
      "Compare-exchange 3 and 4: No exchange\n",
      "Compare-exchange 3 and 4: No exchange\n",
      "Compare-exchange 4 and 5: No exchange\n",
      "Compare-exchange 4 and 5: No exchange\n",
      "Compare-exchange 4 and 5: No exchange\n",
      "Compare-exchange 4 and 5: No exchange\n",
      "Compare-exchange 5 and 6: No exchange\n",
      "Compare-exchange 5 and 6: No exchange\n",
      "Compare-exchange 5 and 6: No exchange\n",
      "Compare-exchange 5 and 6: No exchange\n",
      "Compare-exchange 6 and 7: Exchanged [1, 2, 3, 4, 5, 6, 7, 8]\n",
      "Compare-exchange 6 and 7: No exchange\n",
      "Compare-exchange 6 and 7: No exchange\n",
      "Compare-exchange 6 and 7: No exchange\n",
      "Compare-exchange down\n",
      "Compare-exchange 6 and 7: No exchange\n",
      "Compare-exchange 6 and 7: No exchange\n",
      "Compare-exchange 6 and 7: No exchange\n",
      "Compare-exchange 6 and 7: No exchange\n",
      "Compare-exchange 5 and 6: No exchange\n",
      "Compare-exchange 5 and 6: No exchange\n",
      "Compare-exchange 5 and 6: No exchange\n",
      "Compare-exchange 5 and 6: No exchange\n",
      "Compare-exchange 4 and 5: No exchange\n",
      "Compare-exchange 4 and 5: No exchange\n",
      "Compare-exchange 4 and 5: No exchange\n",
      "Compare-exchange 4 and 5: No exchange\n",
      "Compare-exchange 3 and 4: No exchange\n",
      "Compare-exchange 3 and 4: No exchange\n",
      "Compare-exchange 3 and 4: No exchange\n",
      "Compare-exchange 3 and 4: No exchange\n",
      "Compare-exchange 2 and 3: No exchange\n",
      "Compare-exchange 2 and 3: No exchange\n",
      "Compare-exchange 2 and 3: No exchange\n",
      "Compare-exchange 2 and 3: No exchange\n",
      "Compare-exchange 1 and 2: No exchange\n",
      "Compare-exchange 1 and 2: No exchange\n",
      "Compare-exchange 1 and 2: No exchange\n",
      "Compare-exchange 1 and 2: No exchange\n",
      "Compare-exchange 0 and 1: No exchange\n",
      "Compare-exchange 0 and 1: No exchange\n",
      "Compare-exchange 0 and 1: No exchange\n",
      "Compare-exchange 0 and 1: No exchange\n",
      "Compare-exchange 3 hops up\n",
      "Compare-exchange 0 and 3: No exchange\n",
      "Compare-exchange 0 and 3: No exchange\n",
      "Compare-exchange 0 and 3: No exchange\n",
      "Compare-exchange 0 and 3: No exchange\n",
      "Compare-exchange 1 and 4: No exchange\n",
      "Compare-exchange 1 and 4: No exchange\n",
      "Compare-exchange 1 and 4: No exchange\n",
      "Compare-exchange 1 and 4: No exchange\n",
      "Compare-exchange 2 and 5: No exchange\n",
      "Compare-exchange 2 and 5: No exchange\n",
      "Compare-exchange 2 and 5: No exchange\n",
      "Compare-exchange 2 and 5: No exchange\n",
      "Compare-exchange 3 and 6: No exchange\n",
      "Compare-exchange 3 and 6: No exchange\n",
      "Compare-exchange 3 and 6: No exchange\n",
      "Compare-exchange 3 and 6: No exchange\n",
      "Compare-exchange 4 and 7: No exchange\n",
      "Compare-exchange 4 and 7: No exchange\n",
      "Compare-exchange 4 and 7: No exchange\n",
      "Compare-exchange 4 and 7: No exchange\n",
      "Compare-exchange 2 hops up\n",
      "Compare-exchange 0 and 2: No exchange\n",
      "Compare-exchange 0 and 2: No exchange\n",
      "Compare-exchange 0 and 2: No exchange\n",
      "Compare-exchange 0 and 2: No exchange\n",
      "Compare-exchange 1 and 3: No exchange\n",
      "Compare-exchange 1 and 3: No exchange\n",
      "Compare-exchange 1 and 3: No exchange\n",
      "Compare-exchange 1 and 3: No exchange\n",
      "Compare-exchange 2 and 4: No exchange\n",
      "Compare-exchange 2 and 4: No exchange\n",
      "Compare-exchange 2 and 4: No exchange\n",
      "Compare-exchange 2 and 4: No exchange\n",
      "Compare-exchange 3 and 5: No exchange\n",
      "Compare-exchange 3 and 5: No exchange\n",
      "Compare-exchange 3 and 5: No exchange\n",
      "Compare-exchange 3 and 5: No exchange\n",
      "Compare-exchange 4 and 6: No exchange\n",
      "Compare-exchange 4 and 6: No exchange\n",
      "Compare-exchange 4 and 6: No exchange\n",
      "Compare-exchange 4 and 6: No exchange\n",
      "Compare-exchange 5 and 7: No exchange\n",
      "Compare-exchange 5 and 7: No exchange\n",
      "Compare-exchange 5 and 7: No exchange\n",
      "Compare-exchange 5 and 7: No exchange\n",
      "Compare-exchange odd-even regions\n",
      "Compare-exchange 0 and 1: No exchange\n",
      "Compare-exchange 0 and 1: No exchange\n",
      "Compare-exchange 0 and 1: No exchange\n",
      "Compare-exchange 0 and 1: No exchange\n",
      "Compare-exchange 2 and 3: No exchange\n",
      "Compare-exchange 2 and 3: No exchange\n",
      "Compare-exchange 2 and 3: No exchange\n",
      "Compare-exchange 2 and 3: No exchange\n",
      "Compare-exchange 4 and 5: No exchange\n",
      "Compare-exchange 4 and 5: No exchange\n",
      "Compare-exchange 4 and 5: No exchange\n",
      "Compare-exchange 4 and 5: No exchange\n",
      "Compare-exchange 6 and 7: No exchange\n",
      "Compare-exchange 6 and 7: No exchange\n",
      "Compare-exchange 6 and 7: No exchange\n",
      "Compare-exchange 6 and 7: No exchange\n",
      "Compare-exchange even-odd regions\n",
      "Compare-exchange 1 and 2: No exchange\n",
      "Compare-exchange 1 and 2: No exchange\n",
      "Compare-exchange 1 and 2: No exchange\n",
      "Compare-exchange 1 and 2: No exchange\n",
      "Compare-exchange 3 and 4: No exchange\n",
      "Compare-exchange 3 and 4: No exchange\n",
      "Compare-exchange 3 and 4: No exchange\n",
      "Compare-exchange 3 and 4: No exchange\n",
      "Compare-exchange 5 and 6: No exchange\n",
      "Compare-exchange 5 and 6: No exchange\n",
      "Compare-exchange 5 and 6: No exchange\n",
      "Compare-exchange 5 and 6: No exchange\n",
      "Execution time: 1.000643 ms; Memory usage: 0.0 MiB\n"
     ]
    },
    {
     "data": {
      "text/plain": [
       "[1, 2, 3, 4, 5, 6, 7, 8]"
      ]
     },
     "execution_count": 32,
     "metadata": {},
     "output_type": "execute_result"
    }
   ],
   "source": [
    "# a = [2, 1, 3, 5, 4, 6]\n",
    "a = [5, 4, 2, 1, 3, 7, 8, 6]\n",
    "evaluate(RandomizedShellSort, a)\n",
    "a"
   ]
  },
  {
   "cell_type": "markdown",
   "metadata": {},
   "source": [
    "## Max-Heap Sort Class"
   ]
  },
  {
   "cell_type": "code",
   "execution_count": 11,
   "metadata": {},
   "outputs": [],
   "source": [
    "class MaxHeapSort:\n",
    "    # referensi: https://www.geeksforgeeks.org/python-program-for-heap-sort\n",
    "    @staticmethod\n",
    "    def max_heapify(arr: list[int], n: int, i: int) -> None:\n",
    "        largest = i\n",
    "        left = 2 * i + 1\n",
    "        right = 2 * i + 2\n",
    "\n",
    "        if left < n and arr[largest] < arr[left]:\n",
    "            largest = left\n",
    "\n",
    "        if right < n and arr[largest] < arr[right]:\n",
    "            largest = right\n",
    "\n",
    "        if largest != i:\n",
    "            arr[i], arr[largest] = arr[largest], arr[i]\n",
    "            MaxHeapSort.max_heapify(arr, n, largest)\n",
    "            \n",
    "    @staticmethod\n",
    "    def sort(arr: list[int]) -> None:\n",
    "        n = len(arr)\n",
    "\n",
    "        for i in range(n // 2 - 1, -1, -1):\n",
    "            MaxHeapSort.max_heapify(arr, n, i)\n",
    "\n",
    "        for i in range(n - 1, 0, -1):\n",
    "            arr[0], arr[i] = arr[i], arr[0]\n",
    "            MaxHeapSort.max_heapify(arr, i, 0)"
   ]
  },
  {
   "cell_type": "code",
   "execution_count": 36,
   "metadata": {},
   "outputs": [
    {
     "name": "stdout",
     "output_type": "stream",
     "text": [
      "Execution time: 1.003981 ms; Memory usage: 0.0 MiB\n"
     ]
    }
   ],
   "source": [
    "a = [2, 1, 3, 5, 4, 8, 6, 9]\n",
    "evaluate(MaxHeapSort, a)"
   ]
  },
  {
   "cell_type": "markdown",
   "metadata": {},
   "source": [
    "## Create Dataset"
   ]
  },
  {
   "cell_type": "code",
   "execution_count": 6,
   "metadata": {},
   "outputs": [
    {
     "name": "stdout",
     "output_type": "stream",
     "text": [
      "Sorted list for 2^9 elements: [1, 2, 3, 4, 5, 6, 7, 8, 9, 10]\n",
      "Sorted list for 2^13 elements: [1, 2, 3, 4, 5, 6, 7, 8, 9, 10]\n",
      "Sorted list for 2^16 elements: [1, 2, 3, 4, 5, 6, 7, 8, 9, 10]\n"
     ]
    }
   ],
   "source": [
    "ukuran_kecil_sorted = generate_power_of_2_list(9)\n",
    "ukuran_sedang_sorted = generate_power_of_2_list(13)\n",
    "ukuran_besar_sorted = generate_power_of_2_list(16)\n",
    "\n",
    "print(f\"Sorted list for 2^9 elements: {ukuran_kecil_sorted[:10]}\")\n",
    "print(f\"Sorted list for 2^13 elements: {ukuran_sedang_sorted[:10]}\")\n",
    "print(f\"Sorted list for 2^16 elements: {ukuran_besar_sorted[:10]}\")"
   ]
  },
  {
   "cell_type": "code",
   "execution_count": 7,
   "metadata": {},
   "outputs": [
    {
     "name": "stdout",
     "output_type": "stream",
     "text": [
      "Randomized list for 2^9 elements: [424, 29, 184, 409, 81, 479, 13, 287, 496, 370]\n",
      "Randomized list for 2^13 elements: [3704, 102, 1434, 610, 3909, 7928, 6749, 7377, 4359, 3554]\n",
      "Randomized list for 2^16 elements: [25204, 48999, 46444, 23847, 40682, 23725, 35988, 28707, 64888, 50692]\n"
     ]
    }
   ],
   "source": [
    "ukuran_kecil_random = ukuran_kecil_sorted.copy()\n",
    "random.shuffle(ukuran_kecil_random)\n",
    "ukuran_sedang_random = ukuran_sedang_sorted.copy()\n",
    "random.shuffle(ukuran_sedang_random)\n",
    "ukuran_besar_random = ukuran_besar_sorted.copy()\n",
    "random.shuffle(ukuran_besar_random)\n",
    "\n",
    "print(f\"Randomized list for 2^9 elements: {ukuran_kecil_random[:10]}\")\n",
    "print(f\"Randomized list for 2^13 elements: {ukuran_sedang_random[:10]}\")\n",
    "print(f\"Randomized list for 2^16 elements: {ukuran_besar_random[:10]}\")"
   ]
  },
  {
   "cell_type": "code",
   "execution_count": 8,
   "metadata": {},
   "outputs": [
    {
     "name": "stdout",
     "output_type": "stream",
     "text": [
      "Reversed list for 2^9 elements: [512, 511, 510, 509, 508, 507, 506, 505, 504, 503]\n",
      "Reversed list for 2^13 elements: [8192, 8191, 8190, 8189, 8188, 8187, 8186, 8185, 8184, 8183]\n",
      "Reversed list for 2^16 elements: [65536, 65535, 65534, 65533, 65532, 65531, 65530, 65529, 65528, 65527]\n"
     ]
    }
   ],
   "source": [
    "ukuran_kecil_reversed = ukuran_kecil_sorted.copy()\n",
    "ukuran_kecil_reversed.reverse()\n",
    "ukuran_sedang_reversed = ukuran_sedang_sorted.copy()\n",
    "ukuran_sedang_reversed.reverse()\n",
    "ukuran_besar_reversed = ukuran_besar_sorted.copy()\n",
    "ukuran_besar_reversed.reverse()\n",
    "\n",
    "print(f\"Reversed list for 2^9 elements: {ukuran_kecil_reversed[:10]}\")\n",
    "print(f\"Reversed list for 2^13 elements: {ukuran_sedang_reversed[:10]}\")\n",
    "print(f\"Reversed list for 2^16 elements: {ukuran_besar_reversed[:10]}\")"
   ]
  },
  {
   "cell_type": "code",
   "execution_count": 11,
   "metadata": {},
   "outputs": [],
   "source": [
    "# save it to .txt\n",
    "save_dataset_to_txt(ukuran_kecil_sorted, \"ukuran_kecil_sorted.txt\")\n",
    "save_dataset_to_txt(ukuran_sedang_sorted, \"ukuran_sedang_sorted.txt\")\n",
    "save_dataset_to_txt(ukuran_besar_sorted, \"ukuran_besar_sorted.txt\")\n",
    "save_dataset_to_txt(ukuran_kecil_random, \"ukuran_kecil_random.txt\")\n",
    "save_dataset_to_txt(ukuran_sedang_random, \"ukuran_sedang_random.txt\")\n",
    "save_dataset_to_txt(ukuran_besar_random, \"ukuran_besar_random.txt\")\n",
    "save_dataset_to_txt(ukuran_kecil_reversed, \"ukuran_kecil_reversed.txt\")\n",
    "save_dataset_to_txt(ukuran_sedang_reversed, \"ukuran_sedang_reversed.txt\")\n",
    "save_dataset_to_txt(ukuran_besar_reversed, \"ukuran_besar_reversed.txt\")"
   ]
  },
  {
   "cell_type": "code",
   "execution_count": 12,
   "metadata": {},
   "outputs": [
    {
     "data": {
      "text/plain": [
       "[1, 2, 3, 4, 5, 6, 7, 8, 9, 10]"
      ]
     },
     "execution_count": 12,
     "metadata": {},
     "output_type": "execute_result"
    }
   ],
   "source": [
    "# load form .txt\n",
    "ukuran_kecil_sorted = load_dataset_from_txt(\"ukuran_kecil_sorted.txt\")\n",
    "ukuran_sedang_sorted = load_dataset_from_txt(\"ukuran_sedang_sorted.txt\")\n",
    "ukuran_besar_sorted = load_dataset_from_txt(\"ukuran_besar_sorted.txt\")\n",
    "ukuran_kecil_random = load_dataset_from_txt(\"ukuran_kecil_random.txt\")\n",
    "ukuran_sedang_random = load_dataset_from_txt(\"ukuran_sedang_random.txt\")\n",
    "ukuran_besar_random = load_dataset_from_txt(\"ukuran_besar_random.txt\")\n",
    "ukuran_kecil_reversed = load_dataset_from_txt(\"ukuran_kecil_reversed.txt\")\n",
    "ukuran_sedang_reversed = load_dataset_from_txt(\"ukuran_sedang_reversed.txt\")\n",
    "ukuran_besar_reversed = load_dataset_from_txt(\"ukuran_besar_reversed.txt\")\n",
    "\n",
    "ukuran_besar_sorted[:10]"
   ]
  },
  {
   "cell_type": "markdown",
   "metadata": {},
   "source": [
    "## Evaluate"
   ]
  },
  {
   "cell_type": "markdown",
   "metadata": {},
   "source": [
    "### Sorted"
   ]
  },
  {
   "cell_type": "code",
   "execution_count": 45,
   "metadata": {},
   "outputs": [
    {
     "name": "stdout",
     "output_type": "stream",
     "text": [
      "Randomized Shell Sort\n",
      "Execution time: 76.513767 ms; Memory usage: 0.0 MiB\n",
      "Execution time: 1868.568420 ms; Memory usage: 0.4140625 MiB\n",
      "Execution time: 19077.041626 ms; Memory usage: 0.69140625 MiB\n",
      "\n",
      "Max Heap Sort\n",
      "Execution time: 1.003981 ms; Memory usage: 0.0 MiB\n",
      "Execution time: 35.006285 ms; Memory usage: 0.0 MiB\n",
      "Execution time: 349.066496 ms; Memory usage: 0.0 MiB\n"
     ]
    }
   ],
   "source": [
    "print(\"Randomized Shell Sort\")\n",
    "evaluate(RandomizedShellSort, ukuran_kecil_sorted)\n",
    "evaluate(RandomizedShellSort, ukuran_sedang_sorted)\n",
    "evaluate(RandomizedShellSort, ukuran_besar_sorted)\n",
    "\n",
    "print()\n",
    "\n",
    "print(\"Max Heap Sort\")\n",
    "evaluate(MaxHeapSort, ukuran_kecil_sorted)\n",
    "evaluate(MaxHeapSort, ukuran_sedang_sorted)\n",
    "evaluate(MaxHeapSort, ukuran_besar_sorted)"
   ]
  },
  {
   "cell_type": "markdown",
   "metadata": {},
   "source": [
    "### Randomized"
   ]
  },
  {
   "cell_type": "code",
   "execution_count": 39,
   "metadata": {},
   "outputs": [
    {
     "name": "stdout",
     "output_type": "stream",
     "text": [
      "Randomized Shell Sort\n",
      "Execution time: 81.004858 ms; Memory usage: 0.01171875 MiB\n",
      "Execution time: 1859.903574 ms; Memory usage: 0.0625 MiB\n",
      "Execution time: 19395.323992 ms; Memory usage: 0.7890625 MiB\n",
      "\n",
      "Max Heap Sort\n",
      "Execution time: 1.001120 ms; Memory usage: 0.0 MiB\n",
      "Execution time: 42.086601 ms; Memory usage: 0.0 MiB\n",
      "Execution time: 390.308857 ms; Memory usage: 0.0 MiB\n"
     ]
    }
   ],
   "source": [
    "print(\"Randomized Shell Sort\")\n",
    "evaluate(RandomizedShellSort, ukuran_kecil_random)\n",
    "evaluate(RandomizedShellSort, ukuran_sedang_random)\n",
    "evaluate(RandomizedShellSort, ukuran_besar_random)\n",
    "\n",
    "print()\n",
    "\n",
    "print(\"Max Heap Sort\")\n",
    "evaluate(MaxHeapSort, ukuran_kecil_random)\n",
    "evaluate(MaxHeapSort, ukuran_sedang_random)\n",
    "evaluate(MaxHeapSort, ukuran_besar_random)"
   ]
  },
  {
   "cell_type": "markdown",
   "metadata": {},
   "source": [
    "### Reversed"
   ]
  },
  {
   "cell_type": "code",
   "execution_count": 47,
   "metadata": {},
   "outputs": [
    {
     "name": "stdout",
     "output_type": "stream",
     "text": [
      "Randomized Shell Sort\n",
      "Execution time: 76.511145 ms; Memory usage: 0.0 MiB\n",
      "Execution time: 1865.482807 ms; Memory usage: 0.33203125 MiB\n",
      "Execution time: 19189.573050 ms; Memory usage: 0.25 MiB\n",
      "\n",
      "Max Heap Sort\n",
      "Execution time: 0.999451 ms; Memory usage: 0.0 MiB\n",
      "Execution time: 34.511805 ms; Memory usage: 0.0 MiB\n",
      "Execution time: 359.586477 ms; Memory usage: 0.0 MiB\n"
     ]
    }
   ],
   "source": [
    "print(\"Randomized Shell Sort\")\n",
    "evaluate(RandomizedShellSort, ukuran_kecil_reversed)\n",
    "evaluate(RandomizedShellSort, ukuran_sedang_reversed)\n",
    "evaluate(RandomizedShellSort, ukuran_besar_reversed)\n",
    "\n",
    "print()\n",
    "\n",
    "print(\"Max Heap Sort\")\n",
    "evaluate(MaxHeapSort, ukuran_kecil_reversed)\n",
    "evaluate(MaxHeapSort, ukuran_sedang_reversed)\n",
    "evaluate(MaxHeapSort, ukuran_besar_reversed)"
   ]
  },
  {
   "cell_type": "markdown",
   "metadata": {},
   "source": [
    "> Pada laporan saya akan konversikan MiB ke KB"
   ]
  }
 ],
 "metadata": {
  "kernelspec": {
   "display_name": "tf",
   "language": "python",
   "name": "python3"
  },
  "language_info": {
   "codemirror_mode": {
    "name": "ipython",
    "version": 3
   },
   "file_extension": ".py",
   "mimetype": "text/x-python",
   "name": "python",
   "nbconvert_exporter": "python",
   "pygments_lexer": "ipython3",
   "version": "3.9.16"
  },
  "orig_nbformat": 4
 },
 "nbformat": 4,
 "nbformat_minor": 2
}
