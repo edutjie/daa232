{
 "cells": [
  {
   "cell_type": "markdown",
   "metadata": {},
   "source": [
    "# Tugas Eksplorasi DAA 1\n",
    "\n",
    "Author: Eduardus Tjitrahardja 2106653602\n"
   ]
  },
  {
   "cell_type": "markdown",
   "metadata": {},
   "source": [
    "## Helper\n"
   ]
  },
  {
   "cell_type": "code",
   "execution_count": null,
   "metadata": {},
   "outputs": [
    {
     "name": "stdout",
     "output_type": "stream",
     "text": [
      "Collecting memory-profiler\n",
      "  Downloading memory_profiler-0.61.0-py3-none-any.whl (31 kB)\n",
      "Requirement already satisfied: psutil in d:\\miniconda3\\envs\\tf\\lib\\site-packages (from memory-profiler) (5.9.0)\n",
      "Installing collected packages: memory-profiler\n",
      "Successfully installed memory-profiler-0.61.0\n"
     ]
    },
    {
     "name": "stderr",
     "output_type": "stream",
     "text": [
      "WARNING: Ignoring invalid distribution -pencv-python-headless (c:\\users\\edutj\\appdata\\roaming\\python\\python39\\site-packages)\n",
      "WARNING: Ignoring invalid distribution -pencv-python-headless (c:\\users\\edutj\\appdata\\roaming\\python\\python39\\site-packages)\n",
      "WARNING: Ignoring invalid distribution -pencv-python-headless (c:\\users\\edutj\\appdata\\roaming\\python\\python39\\site-packages)\n",
      "WARNING: Ignoring invalid distribution -pencv-python-headless (c:\\users\\edutj\\appdata\\roaming\\python\\python39\\site-packages)\n",
      "WARNING: Ignoring invalid distribution -pencv-python-headless (c:\\users\\edutj\\appdata\\roaming\\python\\python39\\site-packages)\n",
      "WARNING: Ignoring invalid distribution -pencv-python-headless (c:\\users\\edutj\\appdata\\roaming\\python\\python39\\site-packages)\n"
     ]
    }
   ],
   "source": [
    "%pip install memory-profiler"
   ]
  },
  {
   "cell_type": "code",
   "execution_count": 16,
   "metadata": {},
   "outputs": [],
   "source": [
    "import time\n",
    "from memory_profiler import memory_usage\n",
    "import random\n",
    "\n",
    "\n",
    "# Function to perform a sorting operation and measure time\n",
    "def run_algo_and_measure(algo, *args):\n",
    "    start_time = time.time()\n",
    "    # Replace this line with your sorting algorithm of choice\n",
    "    result = algo(*args)\n",
    "    end_time = time.time()\n",
    "    execution_time = end_time - start_time\n",
    "    # convert to millisecondsq\n",
    "    execution_time *= 1000\n",
    "    return execution_time, result\n",
    "\n",
    "\n",
    "def evaluate(algo, *args) -> None:\n",
    "    start_mem = memory_usage()[0]\n",
    "    execution_time, result = run_algo_and_measure(algo, *args)\n",
    "    end_mem = memory_usage()[0]\n",
    "    mem_usage = end_mem - start_mem\n",
    "    if type(result) == tuple:\n",
    "        result = result[0]\n",
    "    print(f\"Result: {result}\")\n",
    "    print(f\"Execution time: {execution_time:.6f} ms; Memory usage: {mem_usage} MiB\")\n",
    "\n",
    "\n",
    "def generate_items(n: int) -> list[int]:\n",
    "    prices = [random.randint(1, 100) for _ in range(n)]\n",
    "    weights = [random.randint(1, 100) for _ in range(n)]\n",
    "    return prices, weights\n",
    "\n",
    "\n",
    "def save_dataset_to_txt(arr: list[int], path: str) -> None:\n",
    "    with open(path, \"w\") as f:\n",
    "        for num in arr:\n",
    "            f.write(f\"{num}\\n\")\n",
    "\n",
    "\n",
    "def load_dataset_from_txt(path: str) -> list[int]:\n",
    "    with open(path, \"r\") as f:\n",
    "        return [int(line) for line in f.readlines()]"
   ]
  },
  {
   "cell_type": "markdown",
   "metadata": {},
   "source": [
    "## 0/1 Unbounded Knapsack\n"
   ]
  },
  {
   "cell_type": "code",
   "execution_count": 6,
   "metadata": {},
   "outputs": [
    {
     "name": "stdout",
     "output_type": "stream",
     "text": [
      "Optimal value: 320\n"
     ]
    }
   ],
   "source": [
    "def unboundedKnapsack(W, val, wt):\n",
    "    # dp[i] is going to store maximum\n",
    "    # value with knapsack capacity i.\n",
    "    dp = [0] * (W + 1)\n",
    "\n",
    "    # Fill dp[] using above recursive formula\n",
    "    for i in range(W + 1):\n",
    "        for j in range(len(val)):\n",
    "            if wt[j] <= i:\n",
    "                dp[i] = max(dp[i], dp[i - wt[j]] + val[j])\n",
    "\n",
    "    return dp[W]\n",
    "\n",
    "\n",
    "# Driver program\n",
    "W = 100\n",
    "prices = [10, 30, 20, 40]\n",
    "weights = [5, 10, 15, 12]\n",
    "\n",
    "print(\"Optimal value:\", unboundedKnapsack(W, prices, weights))"
   ]
  },
  {
   "cell_type": "code",
   "execution_count": 7,
   "metadata": {},
   "outputs": [
    {
     "name": "stdout",
     "output_type": "stream",
     "text": [
      "Result: 320\n",
      "Execution time: 0.000000 ms; Memory usage: 0.0 MiB\n"
     ]
    }
   ],
   "source": [
    "evaluate(unboundedKnapsack, W, prices, weights)"
   ]
  },
  {
   "cell_type": "markdown",
   "metadata": {},
   "source": [
    "## An improved branch and bound algorithm for a strongly correlated unbounded knapsack problem\n"
   ]
  },
  {
   "cell_type": "code",
   "execution_count": 12,
   "metadata": {},
   "outputs": [
    {
     "name": "stdout",
     "output_type": "stream",
     "text": [
      "Optimal value: 320\n",
      "Optimal solution vector: [0 0 0]\n"
     ]
    }
   ],
   "source": [
    "import numpy as np\n",
    "\n",
    "\n",
    "class BranchBoundUKP:\n",
    "    def __init__(self, W, w, v):\n",
    "        self.W = W\n",
    "        self.w = w\n",
    "        self.v = v\n",
    "        self.N = list(range(len(w)))\n",
    "        self.M = None\n",
    "        self.x_best = None\n",
    "        self.z_best = 0\n",
    "\n",
    "    def calculate_max_value(self):\n",
    "        # Procedure 1: Eliminating dominated items\n",
    "        j = 0\n",
    "        while j < len(self.N) - 1:\n",
    "            k = j + 1\n",
    "            while k < len(self.N):\n",
    "                wj, wk = self.w[self.N[j]], self.w[self.N[k]]\n",
    "                vj, vk = self.v[self.N[j]], self.v[self.N[k]]\n",
    "                if np.floor(wk / wj) * vj >= vk:\n",
    "                    self.N.pop(k)\n",
    "                elif np.floor(wj / wk) * vk >= vj:\n",
    "                    self.N.pop(j)\n",
    "                    k = len(self.N)\n",
    "                else:\n",
    "                    k += 1\n",
    "            j += 1\n",
    "\n",
    "        # Procedure 2: Proposed algorithm\n",
    "        # Initialize\n",
    "        self.N.sort(key=lambda i: self.v[i] / self.w[i], reverse=True)\n",
    "        self.v = [self.v[i] for i in self.N]\n",
    "        self.w = [self.w[i] for i in self.N]\n",
    "\n",
    "        self.x_best = np.zeros(len(self.N), dtype=int)  # current best solution\n",
    "        self.z_best = 0  # current best solution value\n",
    "        x_current = np.zeros(len(self.N), dtype=int)  # current feasible solution\n",
    "\n",
    "        self.M = np.empty((len(self.N), len(self.N)))\n",
    "\n",
    "        i = 0\n",
    "        x1 = int(np.floor(self.W / self.w[i]))\n",
    "        W_prime = self.W - self.w[i] * x1\n",
    "        V_N = self.v[i] * x1\n",
    "        U = self.calculate_U(W_prime, V_N, i)\n",
    "        m = []\n",
    "        for i in range(len(self.N)):\n",
    "            min_mi = min([self.w[j] for j in range(i + 1, len(self.N))], default=np.inf)\n",
    "            m.append(min_mi)\n",
    "\n",
    "        # branching\n",
    "        command = 2\n",
    "        while True:\n",
    "            if command == 2:\n",
    "                i, x_current, W_prime, V_N, command = self.develop(\n",
    "                    i, x_current, W_prime, V_N, U, m\n",
    "                )\n",
    "            elif command == 3:\n",
    "                i, x_current, W_prime, V_N, command = self.backtrack(\n",
    "                    i, x_current, W_prime, V_N, m\n",
    "                )\n",
    "            elif command == 4:\n",
    "                ...  # not used\n",
    "            else:\n",
    "                break\n",
    "\n",
    "        return self.z_best, self.x_best\n",
    "\n",
    "    def develop(\n",
    "        self,\n",
    "        i,\n",
    "        x_current,\n",
    "        W_prime,\n",
    "        V_N,\n",
    "        U,\n",
    "        m,\n",
    "    ):\n",
    "        # Develop\n",
    "        while True:\n",
    "            if W_prime < m[i]:\n",
    "                if self.z_best < V_N:\n",
    "                    self.z_best = V_N\n",
    "                    self.x_best = np.copy(x_current)\n",
    "                    if self.z_best == U:\n",
    "                        return (i, x_current, W_prime, V_N, 5)\n",
    "                return (i, x_current, W_prime, V_N, 3)\n",
    "            else:\n",
    "                j = self.find_j(W_prime, i)\n",
    "                if (V_N + U[j, int(W_prime)] <= z_best) or (\n",
    "                    self.M[i, int(W_prime)] >= V_N\n",
    "                ):\n",
    "                    return (i, x_current, W_prime, V_N, 3)\n",
    "                else:\n",
    "                    x_current[j] = int(np.floor(W_prime / self.w[j]))\n",
    "                    V_N += self.v[j] * x_current[j]\n",
    "                    W_prime -= self.w[j] * x_current[j]\n",
    "                    self.M[i, int(W_prime)] = V_N\n",
    "                    i = j\n",
    "\n",
    "    def backtrack(\n",
    "        self,\n",
    "        i,\n",
    "        x_current,\n",
    "        W_prime,\n",
    "        V_N,\n",
    "        m,\n",
    "    ):\n",
    "        while True:\n",
    "            # Backtrack\n",
    "            j = self.find_max_j(x_current, i)\n",
    "            if j < 0:\n",
    "                return (i, x_current, W_prime, V_N, 5)\n",
    "            i = j\n",
    "            x_current[i] -= 1\n",
    "            V_N -= self.v[i]\n",
    "            W_prime += self.w[i]\n",
    "\n",
    "            if W_prime < m[i]:\n",
    "                continue\n",
    "            elif (\n",
    "                V_N + np.floor(W_prime * (self.v[i + 1] / self.w[i + 1])) <= self.z_best\n",
    "            ):\n",
    "                V_N -= self.v[i] * x_current[i]\n",
    "                W_prime += self.w[i] * x_current[i]\n",
    "                x_current[i] = 0\n",
    "            elif W_prime >= m[i]:\n",
    "                return (i, x_current, W_prime, V_N, 2)\n",
    "\n",
    "    def calculate_U(self, W_prime, V_N, i):\n",
    "        if i >= len(self.w) - 2:\n",
    "            return V_N\n",
    "\n",
    "        v1, v2, v3 = self.v[i], self.v[i + 1], self.v[i + 2]\n",
    "        w1, w2, w3 = self.w[i], self.w[i + 1], self.w[i + 2]\n",
    "        z_prime = V_N + (np.floor(W_prime / w2) * v2)\n",
    "        W_double_prime = W_prime - (np.floor(W_prime / w2) * w2)\n",
    "        U_prime = z_prime + (np.floor(W_double_prime / w3) * v3)\n",
    "        U_double_prime = z_prime + (\n",
    "            np.floor(\n",
    "                (\n",
    "                    (W_double_prime + (np.ceil((1 / w1) * (w2 - W_double_prime)) * w1))\n",
    "                    * (v2 / w2)\n",
    "                )\n",
    "                - (np.ceil((1 / w1) * (w2 - W_double_prime)) * v1)\n",
    "            )\n",
    "        )\n",
    "\n",
    "        return max(U_prime, U_double_prime)\n",
    "\n",
    "    def find_j(self, W_prime, i):\n",
    "        j = i + 1\n",
    "        while j < len(self.w) and self.w[j] > W_prime:\n",
    "            j += 1\n",
    "        return j\n",
    "\n",
    "    def find_max_j(self, x_current, i):\n",
    "        j = i if i < len(x_current) else len(x_current) - 1\n",
    "        while j >= 0 and x_current[j] == 0:\n",
    "            j -= 1\n",
    "        return j\n",
    "\n",
    "\n",
    "# Example usage:\n",
    "W = 100\n",
    "prices = [10, 30, 20, 40]\n",
    "weights = [5, 10, 15, 12]\n",
    "\n",
    "bbukp = BranchBoundUKP(W, weights, prices)\n",
    "z_best, x_best = bbukp.calculate_max_value()\n",
    "\n",
    "print(\"Optimal value:\", z_best)\n",
    "print(\"Optimal solution vector:\", x_best)"
   ]
  },
  {
   "cell_type": "code",
   "execution_count": 24,
   "metadata": {},
   "outputs": [
    {
     "name": "stdout",
     "output_type": "stream",
     "text": [
      "Result: 320\n",
      "Execution time: 0.000000 ms; Memory usage: 0.0 MiB\n"
     ]
    }
   ],
   "source": [
    "bbukp = BranchBoundUKP(W, weights, prices)\n",
    "evaluate(bbukp.calculate_max_value)"
   ]
  },
  {
   "cell_type": "markdown",
   "metadata": {},
   "source": [
    "## Generate Dataset\n"
   ]
  },
  {
   "cell_type": "code",
   "execution_count": 4,
   "metadata": {},
   "outputs": [],
   "source": [
    "kecil = generate_items(100)\n",
    "sedang = generate_items(1000)\n",
    "besar = generate_items(10000)"
   ]
  },
  {
   "cell_type": "code",
   "execution_count": 17,
   "metadata": {},
   "outputs": [],
   "source": [
    "save_dataset_to_txt(kecil[0], \"v_kecil.txt\")\n",
    "save_dataset_to_txt(sedang[0], \"v_sedang.txt\")\n",
    "save_dataset_to_txt(besar[0], \"v_besar.txt\")\n",
    "\n",
    "save_dataset_to_txt(kecil[1], \"w_kecil.txt\")\n",
    "save_dataset_to_txt(sedang[1], \"w_sedang.txt\")\n",
    "save_dataset_to_txt(besar[1], \"w_besar.txt\")"
   ]
  },
  {
   "cell_type": "code",
   "execution_count": 18,
   "metadata": {},
   "outputs": [],
   "source": [
    "v_kecil = load_dataset_from_txt(\"v_kecil.txt\")\n",
    "w_kecil = load_dataset_from_txt(\"w_kecil.txt\")\n",
    "\n",
    "v_sedang = load_dataset_from_txt(\"v_sedang.txt\")\n",
    "w_sedang = load_dataset_from_txt(\"w_sedang.txt\")\n",
    "\n",
    "v_besar = load_dataset_from_txt(\"v_besar.txt\")\n",
    "w_besar = load_dataset_from_txt(\"w_besar.txt\")"
   ]
  },
  {
   "cell_type": "markdown",
   "metadata": {},
   "source": [
    "## Evaluation\n"
   ]
  },
  {
   "cell_type": "code",
   "execution_count": 20,
   "metadata": {},
   "outputs": [
    {
     "name": "stdout",
     "output_type": "stream",
     "text": [
      "Unbounded Knapsack\n",
      "Kecil\n",
      "Result: 310\n",
      "Execution time: 0.000000 ms; Memory usage: 0.0 MiB\n",
      "Sedang\n",
      "Result: 980\n",
      "Execution time: 0.999928 ms; Memory usage: 0.0 MiB\n",
      "Besar\n",
      "Result: 1000\n",
      "Execution time: 7.517338 ms; Memory usage: 0.0 MiB\n"
     ]
    }
   ],
   "source": [
    "print(\"Unbounded Knapsack\")\n",
    "print(\"Kecil\")\n",
    "evaluate(unboundedKnapsack, 10, kecil[0], kecil[1])\n",
    "print(\"Sedang\")\n",
    "evaluate(unboundedKnapsack, 10, sedang[0], sedang[1])\n",
    "print(\"Besar\")\n",
    "evaluate(unboundedKnapsack, 10, besar[0], besar[1])"
   ]
  },
  {
   "cell_type": "code",
   "execution_count": 28,
   "metadata": {},
   "outputs": [
    {
     "name": "stdout",
     "output_type": "stream",
     "text": [
      "Branch and Bound Unbounded Knapsack\n",
      "Kecil\n",
      "Result: 310\n",
      "Execution time: 0.000000 ms; Memory usage: 0.0 MiB\n",
      "Sedang\n",
      "Result: 980\n",
      "Execution time: 2.001762 ms; Memory usage: 0.0 MiB\n",
      "Besar\n",
      "Result: 1000\n",
      "Execution time: 19.539356 ms; Memory usage: 0.0 MiB\n"
     ]
    }
   ],
   "source": [
    "print(\"Branch and Bound Unbounded Knapsack\")\n",
    "print(\"Kecil\")\n",
    "bbukp = BranchBoundUKP(10, w_kecil, v_kecil)\n",
    "evaluate(bbukp.calculate_max_value)\n",
    "print(\"Sedang\")\n",
    "bbukp = BranchBoundUKP(10, w_sedang, v_sedang)\n",
    "evaluate(bbukp.calculate_max_value)\n",
    "print(\"Besar\")\n",
    "bbukp = BranchBoundUKP(10, w_besar, v_besar)\n",
    "evaluate(bbukp.calculate_max_value)"
   ]
  }
 ],
 "metadata": {
  "kernelspec": {
   "display_name": "tf",
   "language": "python",
   "name": "python3"
  },
  "language_info": {
   "codemirror_mode": {
    "name": "ipython",
    "version": 3
   },
   "file_extension": ".py",
   "mimetype": "text/x-python",
   "name": "python",
   "nbconvert_exporter": "python",
   "pygments_lexer": "ipython3",
   "version": "3.9.16"
  }
 },
 "nbformat": 4,
 "nbformat_minor": 2
}
