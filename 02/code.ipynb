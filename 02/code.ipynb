{
 "cells": [
  {
   "cell_type": "markdown",
   "metadata": {},
   "source": [
    "# Tugas Eksplorasi DAA 1\n",
    "\n",
    "Author: Eduardus Tjitrahardja 2106653602\n"
   ]
  },
  {
   "cell_type": "markdown",
   "metadata": {},
   "source": [
    "## Helper\n"
   ]
  },
  {
   "cell_type": "code",
   "execution_count": null,
   "metadata": {},
   "outputs": [
    {
     "name": "stdout",
     "output_type": "stream",
     "text": [
      "Collecting memory-profiler\n",
      "  Downloading memory_profiler-0.61.0-py3-none-any.whl (31 kB)\n",
      "Requirement already satisfied: psutil in d:\\miniconda3\\envs\\tf\\lib\\site-packages (from memory-profiler) (5.9.0)\n",
      "Installing collected packages: memory-profiler\n",
      "Successfully installed memory-profiler-0.61.0\n"
     ]
    },
    {
     "name": "stderr",
     "output_type": "stream",
     "text": [
      "WARNING: Ignoring invalid distribution -pencv-python-headless (c:\\users\\edutj\\appdata\\roaming\\python\\python39\\site-packages)\n",
      "WARNING: Ignoring invalid distribution -pencv-python-headless (c:\\users\\edutj\\appdata\\roaming\\python\\python39\\site-packages)\n",
      "WARNING: Ignoring invalid distribution -pencv-python-headless (c:\\users\\edutj\\appdata\\roaming\\python\\python39\\site-packages)\n",
      "WARNING: Ignoring invalid distribution -pencv-python-headless (c:\\users\\edutj\\appdata\\roaming\\python\\python39\\site-packages)\n",
      "WARNING: Ignoring invalid distribution -pencv-python-headless (c:\\users\\edutj\\appdata\\roaming\\python\\python39\\site-packages)\n",
      "WARNING: Ignoring invalid distribution -pencv-python-headless (c:\\users\\edutj\\appdata\\roaming\\python\\python39\\site-packages)\n"
     ]
    }
   ],
   "source": [
    "%pip install memory-profiler"
   ]
  },
  {
   "cell_type": "code",
   "execution_count": 8,
   "metadata": {},
   "outputs": [],
   "source": [
    "import random\n",
    "\n",
    "\n",
    "def generate_items(n: int) -> list[int]:\n",
    "    prices = [4 ** random.randint(0, 10) for _ in range(n)]\n",
    "    weights = [2 ** random.randint(0, 10) for _ in range(n)]\n",
    "    return prices, weights\n",
    "\n",
    "\n",
    "def save_dataset_to_txt(arr: list[int], path: str) -> None:\n",
    "    with open(path, \"w\") as f:\n",
    "        for num in arr:\n",
    "            f.write(f\"{num}\\n\")"
   ]
  },
  {
   "cell_type": "markdown",
   "metadata": {},
   "source": [
    "## 0/1 Unbounded Knapsack\n"
   ]
  },
  {
   "cell_type": "code",
   "execution_count": 77,
   "metadata": {},
   "outputs": [
    {
     "name": "stdout",
     "output_type": "stream",
     "text": [
      "Optimal value: 320\n"
     ]
    }
   ],
   "source": [
    "from knapsack.unbounded import UnboundedKnapsack\n",
    "\n",
    "# Driver program\n",
    "W = 100\n",
    "prices = [10, 30, 20, 40]\n",
    "weights = [5, 10, 15, 12]\n",
    "uk = UnboundedKnapsack(W, prices, weights)\n",
    "print(\"Optimal value:\", uk.calculate_max_value())"
   ]
  },
  {
   "cell_type": "markdown",
   "metadata": {},
   "source": [
    "## An improved branch and bound algorithm for a strongly correlated unbounded knapsack problem\n"
   ]
  },
  {
   "cell_type": "code",
   "execution_count": 1,
   "metadata": {},
   "outputs": [
    {
     "name": "stdout",
     "output_type": "stream",
     "text": [
      "Optimal value: 320\n",
      "Optimal solution vector: [0 0 0]\n"
     ]
    }
   ],
   "source": [
    "from knapsack.unbounded import BranchBoundUnboundedKnapsack\n",
    "\n",
    "# Example usage:\n",
    "W = 100\n",
    "prices = [10, 30, 20, 40]\n",
    "weights = [5, 10, 15, 12]\n",
    "\n",
    "bbuk = BranchBoundUnboundedKnapsack(W, prices, weights)\n",
    "z_best, x_best = bbuk.calculate_max_value()\n",
    "\n",
    "print(\"Optimal value:\", z_best)\n",
    "print(\"Optimal solution vector:\", x_best)"
   ]
  },
  {
   "cell_type": "markdown",
   "metadata": {},
   "source": [
    "## Generate Dataset\n"
   ]
  },
  {
   "cell_type": "code",
   "execution_count": 9,
   "metadata": {},
   "outputs": [],
   "source": [
    "kecil = generate_items(100)\n",
    "sedang = generate_items(1000)\n",
    "besar = generate_items(10000)"
   ]
  },
  {
   "cell_type": "code",
   "execution_count": 10,
   "metadata": {},
   "outputs": [],
   "source": [
    "save_dataset_to_txt(kecil[0], \"v_kecil.txt\")\n",
    "save_dataset_to_txt(sedang[0], \"v_sedang.txt\")\n",
    "save_dataset_to_txt(besar[0], \"v_besar.txt\")\n",
    "\n",
    "save_dataset_to_txt(kecil[1], \"w_kecil.txt\")\n",
    "save_dataset_to_txt(sedang[1], \"w_sedang.txt\")\n",
    "save_dataset_to_txt(besar[1], \"w_besar.txt\")"
   ]
  },
  {
   "cell_type": "markdown",
   "metadata": {},
   "source": [
    "## Evaluation\n"
   ]
  },
  {
   "cell_type": "code",
   "execution_count": 14,
   "metadata": {},
   "outputs": [
    {
     "name": "stdout",
     "output_type": "stream",
     "text": [
      "Algo: UnboundedKnapsack\n",
      "Dataset: v_kecil.txt, w_kecil.txt; W: 10\n",
      "Result: 5242880\n",
      "Execution time: 0.000000 ms; Memory usage: 27.89453125 MB\n",
      "\n",
      "Dataset: v_sedang.txt, w_sedang.txt; W: 100\n",
      "Result: 104857600\n",
      "Execution time: 26.315689 ms; Memory usage: 27.97265625 MB\n",
      "\n",
      "Dataset: v_besar.txt, w_besar.txt; W: 1000\n",
      "Result: 1048576000\n",
      "Execution time: 3839.209318 ms; Memory usage: 29.0703125 MB\n",
      "\n",
      "\n",
      "Algo: BranchBoundUnboundedKnapsack\n",
      "Dataset: v_kecil.txt, w_kecil.txt; W: 10\n",
      "Result: 5242880\n",
      "Execution time: 1.039982 ms; Memory usage: 28.59375 MB\n",
      "\n",
      "Dataset: v_sedang.txt, w_sedang.txt; W: 100\n",
      "Result: 104857600\n",
      "Execution time: 2.693653 ms; Memory usage: 28.59375 MB\n",
      "\n",
      "Dataset: v_besar.txt, w_besar.txt; W: 1000\n",
      "Result: 1048576000\n",
      "Execution time: 43.438673 ms; Memory usage: 29.10546875 MB\n",
      "\n",
      "\n"
     ]
    }
   ],
   "source": [
    "!python evaluate.py"
   ]
  }
 ],
 "metadata": {
  "kernelspec": {
   "display_name": "tf",
   "language": "python",
   "name": "python3"
  },
  "language_info": {
   "codemirror_mode": {
    "name": "ipython",
    "version": 3
   },
   "file_extension": ".py",
   "mimetype": "text/x-python",
   "name": "python",
   "nbconvert_exporter": "python",
   "pygments_lexer": "ipython3",
   "version": "3.9.16"
  }
 },
 "nbformat": 4,
 "nbformat_minor": 2
}
